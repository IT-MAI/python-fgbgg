{
 "cells": [
  {
   "cell_type": "markdown",
   "id": "515e798f",
   "metadata": {},
   "source": [
    "# Самостоятельное задание #4\n",
    "\n",
    "\n",
    "Дана строка: Lambdadambda\n",
    "    \n",
    "**Вывести третий символ этой строки.**"
   ]
  },
  {
   "cell_type": "code",
   "execution_count": 2,
   "id": "6fb0097c",
   "metadata": {},
   "outputs": [],
   "source": [
    "row = \"Lambdadambda\""
   ]
  },
  {
   "cell_type": "markdown",
   "id": "ea010c5d",
   "metadata": {},
   "source": [
    "**Вывести предпоследний символ этой строки.**"
   ]
  },
  {
   "cell_type": "code",
   "execution_count": 3,
   "id": "31b0d3ed",
   "metadata": {},
   "outputs": [
    {
     "name": "stdout",
     "output_type": "stream",
     "text": [
      "d\n"
     ]
    }
   ],
   "source": [
    "row = \"Lambdadambda\"[::-1]\n",
    "print(row[1])"
   ]
  },
  {
   "cell_type": "markdown",
   "id": "e4e84e54",
   "metadata": {},
   "source": [
    "**Вывести первые пять символов этой строки.**"
   ]
  },
  {
   "cell_type": "code",
   "execution_count": 5,
   "id": "7e311943",
   "metadata": {},
   "outputs": [
    {
     "name": "stdout",
     "output_type": "stream",
     "text": [
      "Lambd\n"
     ]
    }
   ],
   "source": [
    "row = \"Lambdadambda\"\n",
    "print(row[:5])"
   ]
  },
  {
   "cell_type": "markdown",
   "id": "f6a3ba9c",
   "metadata": {},
   "source": [
    "**Вывести строку, кроме последних двух символов.**"
   ]
  },
  {
   "cell_type": "code",
   "execution_count": 6,
   "id": "e73c0b48",
   "metadata": {},
   "outputs": [
    {
     "name": "stdout",
     "output_type": "stream",
     "text": [
      "Lambdadamb\n"
     ]
    }
   ],
   "source": [
    "row = \"Lambdadambda\"\n",
    "print(row[:10])"
   ]
  },
  {
   "cell_type": "markdown",
   "id": "0a4dfd22",
   "metadata": {},
   "source": [
    "**Вывести все символы с четными индексами (считайте, что 0 - четный индекс).**"
   ]
  },
  {
   "cell_type": "code",
   "execution_count": 7,
   "id": "c2562333",
   "metadata": {},
   "outputs": [
    {
     "name": "stdout",
     "output_type": "stream",
     "text": [
      "Lmddmd"
     ]
    }
   ],
   "source": [
    "row = \"Lambdadambda\"\n",
    "for n in range ( len(row)):\n",
    "    if (n == 0)or(n % 2 == 0):\n",
    "        print(row[n], end = \"\")\n"
   ]
  },
  {
   "cell_type": "markdown",
   "id": "d692f8e4",
   "metadata": {},
   "source": [
    "**Вывести все символы с нечетными индексами.**"
   ]
  },
  {
   "cell_type": "code",
   "execution_count": 8,
   "id": "4ee4c0c7",
   "metadata": {},
   "outputs": [
    {
     "name": "stdout",
     "output_type": "stream",
     "text": [
      "abaaba"
     ]
    }
   ],
   "source": [
    "row = \"Lambdadambda\"\n",
    "for n in range ( len(row)):\n",
    "    if (n % 2 != 0):\n",
    "        print(row[n], end = \"\")\n",
    "\n"
   ]
  },
  {
   "cell_type": "markdown",
   "id": "dc19a22d",
   "metadata": {},
   "source": [
    "**Вывести все символы в обратном порядке.**"
   ]
  },
  {
   "cell_type": "code",
   "execution_count": 9,
   "id": "b791ac60",
   "metadata": {},
   "outputs": [
    {
     "name": "stdout",
     "output_type": "stream",
     "text": [
      "adbmadadbmaL\n"
     ]
    }
   ],
   "source": [
    "row =  \"Lambdadambda\"[::-1]\n",
    "print(row)\n"
   ]
  },
  {
   "cell_type": "markdown",
   "id": "ddcab1ad",
   "metadata": {},
   "source": [
    "**Вывести все символы строки через один в обратном порядке, начиная с последнего.**"
   ]
  },
  {
   "cell_type": "code",
   "execution_count": 10,
   "id": "29f2787d",
   "metadata": {},
   "outputs": [
    {
     "name": "stdout",
     "output_type": "stream",
     "text": [
      "abaaba"
     ]
    }
   ],
   "source": [
    "row =  \"Lambdadambda\"[::-1]\n",
    "for i in range ( len(row)):\n",
    "    if(i == 0)or (i % 2 == 0):\n",
    "        print(row[i], end = \"\")\n"
   ]
  },
  {
   "cell_type": "markdown",
   "id": "1c732041",
   "metadata": {},
   "source": [
    "**Вывести длину данной строки.**"
   ]
  },
  {
   "cell_type": "code",
   "execution_count": 11,
   "id": "fd2fb86c",
   "metadata": {},
   "outputs": [
    {
     "name": "stdout",
     "output_type": "stream",
     "text": [
      "12\n"
     ]
    }
   ],
   "source": [
    "row = \"Lambdadambda\"\n",
    "print(len(row))\n"
   ]
  },
  {
   "cell_type": "code",
   "execution_count": null,
   "id": "ce69e88b",
   "metadata": {},
   "outputs": [],
   "source": []
  }
 ],
 "metadata": {
  "kernelspec": {
   "display_name": "Python 3 (ipykernel)",
   "language": "python",
   "name": "python3"
  },
  "language_info": {
   "codemirror_mode": {
    "name": "ipython",
    "version": 3
   },
   "file_extension": ".py",
   "mimetype": "text/x-python",
   "name": "python",
   "nbconvert_exporter": "python",
   "pygments_lexer": "ipython3",
   "version": "3.10.0"
  }
 },
 "nbformat": 4,
 "nbformat_minor": 5
}
