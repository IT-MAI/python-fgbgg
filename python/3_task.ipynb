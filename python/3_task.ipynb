{
 "cells": [
  {
   "cell_type": "markdown",
   "id": "657be689",
   "metadata": {},
   "source": [
    "# Самостоятельное задание #3\n",
    "\n",
    "\n",
    "### Задание 1\n",
    "\n",
    "Допишите функцию, которая принимает массив из 10 чисел и возвращает их сумму."
   ]
  },
  {
   "cell_type": "code",
   "execution_count": 6,
   "id": "18ffcbab",
   "metadata": {},
   "outputs": [
    {
     "name": "stdout",
     "output_type": "stream",
     "text": [
      "enter ten numbers:\n",
      "1\n",
      "2\n",
      "3\n",
      "4\n",
      "5\n",
      "6\n",
      "7\n",
      "8\n",
      "9\n",
      "10\n",
      "sum of numbers: 55\n"
     ]
    }
   ],
   "source": [
    "print('enter ten numbers:')\n",
    "a=[]\n",
    "for i in range(10):\n",
    "    value=int(input())\n",
    "    a.append(value)\n",
    "print('sum of numbers:',sum(a))"
   ]
  },
  {
   "cell_type": "markdown",
   "id": "eb78afc0",
   "metadata": {},
   "source": [
    " Задание 2\n",
    "\n",
    "Допишите функцию, которая принимает массив чисел и возвращает количество чисел равных нулю."
   ]
  },
  {
   "cell_type": "code",
   "execution_count": 10,
   "id": "7e8fe536",
   "metadata": {},
   "outputs": [
    {
     "name": "stdout",
     "output_type": "stream",
     "text": [
      "enter ten numbers:\n",
      "1\n",
      "0\n",
      "0\n",
      "2\n",
      "3\n",
      "4\n",
      "5\n",
      "6\n",
      "7\n",
      "8\n",
      "count  of zeros in the array: 2\n"
     ]
    }
   ],
   "source": [
    "print('enter ten numbers:')\n",
    "a=[]\n",
    "for i in range(10):\n",
    "    value=int(input())\n",
    "    a.append(value)\n",
    "     \n",
    "count = 0 \n",
    "for c in range(10):\n",
    "    if a[c] == 0:\n",
    "        count+=1\n",
    "        \n",
    "print('count  of zeros in the array:',count)        "
   ]
  },
  {
   "cell_type": "markdown",
   "id": "570d5a26",
   "metadata": {},
   "source": [
    " Задание 3\n",
    "\n",
    "Напишите программу, в которой задается  натуральное число n и выводится лестница из n ступенек, i-я ступенька должна состоять из чисел от 1 до i без пробелов."
   ]
  },
  {
   "cell_type": "code",
   "execution_count": 13,
   "id": "69fd0501",
   "metadata": {},
   "outputs": [
    {
     "name": "stdout",
     "output_type": "stream",
     "text": [
      "enter the value:\n",
      "1\n",
      "1\n"
     ]
    }
   ],
   "source": [
    "print('enter the value:')\n",
    "n=int(input())\n",
    "i=1\n",
    "x=1\n",
    "while x<=n:\n",
    " a=[i+1 for i in range(x)]\n",
    " t=''.join(map(str, a))\n",
    " print(t)\n",
    " x+=1"
   ]
  },
  {
   "cell_type": "markdown",
   "id": "b6ef1c44",
   "metadata": {},
   "source": [
    "\n",
    "### Задание 4\n",
    "\n",
    "Напишите программу, в которой задается натуральное число n и выводится пирамида из n ступенек, i-я ступень должна состоять из чисел от 1 до i и обратно без пробелов."
   ]
  },
  {
   "cell_type": "code",
   "execution_count": 14,
   "id": "6b038f87",
   "metadata": {},
   "outputs": [
    {
     "name": "stdout",
     "output_type": "stream",
     "text": [
      "enter the value:\n",
      "7\n",
      "      11      \n",
      "     2112     \n",
      "    321123    \n",
      "   43211234   \n",
      "  5432112345  \n",
      " 654321123456 \n",
      "76543211234567\n"
     ]
    }
   ],
   "source": [
    "print('enter the value:')\n",
    "n=int(input())\n",
    "i=1\n",
    "x=1\n",
    "o=n\n",
    "while x<=n:\n",
    " o-=1\n",
    " e=[i+1 for i in range(x)]\n",
    " p=e[::-1]\n",
    " t=''.join(map(str, e))\n",
    " k=''.join(map(str, p))\n",
    " print(o*' '+k+t+o*' ')\n",
    " x+=1"
   ]
  },
  {
   "cell_type": "markdown",
   "id": "b4552ef5",
   "metadata": {},
   "source": [
    "\n",
    "### Задание 5\n",
    "\n",
    "Напишите программу, в которой задается натуральное число n и выводится ромб из `n*2-1` ступенек, i-я ступень должна состоять из чисел от 1 до i и обратно без пробелов."
   ]
  },
  {
   "cell_type": "code",
   "execution_count": 16,
   "id": "5eaae897",
   "metadata": {},
   "outputs": [
    {
     "name": "stdout",
     "output_type": "stream",
     "text": [
      "8\n",
      "       11       \n",
      "      2112      \n",
      "     321123     \n",
      "    43211234    \n",
      "   5432112345   \n",
      "  654321123456  \n",
      " 76543211234567 \n",
      "8765432112345678\n",
      "8765432112345678\n",
      " 76543211234567 \n",
      "  654321123456  \n",
      "   5432112345   \n",
      "    43211234    \n",
      "     321123     \n",
      "      2112      \n",
      "       11       \n"
     ]
    }
   ],
   "source": [
    "n=int(input())\n",
    "i=1\n",
    "x=1\n",
    "o=n\n",
    "a=[]\n",
    "while x<=n:\n",
    " o-=1\n",
    " e=[i+1 for i in range(x)]\n",
    " p=e[::-1]\n",
    " t=''.join(map(str, e))\n",
    " k=''.join(map(str, p))\n",
    " g=k+t\n",
    " a.append(o*' '+g+o*' ')\n",
    " print(a[x-1])\n",
    " x+=1\n",
    "while x>1:\n",
    " print(a[x-2])\n",
    " x-=1"
   ]
  },
  {
   "cell_type": "code",
   "execution_count": null,
   "id": "c8138f75",
   "metadata": {},
   "outputs": [],
   "source": []
  }
 ],
 "metadata": {
  "kernelspec": {
   "display_name": "Python 3 (ipykernel)",
   "language": "python",
   "name": "python3"
  },
  "language_info": {
   "codemirror_mode": {
    "name": "ipython",
    "version": 3
   },
   "file_extension": ".py",
   "mimetype": "text/x-python",
   "name": "python",
   "nbconvert_exporter": "python",
   "pygments_lexer": "ipython3",
   "version": "3.10.0"
  }
 },
 "nbformat": 4,
 "nbformat_minor": 5
}
