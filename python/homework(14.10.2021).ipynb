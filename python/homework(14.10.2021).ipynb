{
 "cells": [
  {
   "cell_type": "code",
   "execution_count": 2,
   "id": "0312b606",
   "metadata": {},
   "outputs": [
    {
     "name": "stdout",
     "output_type": "stream",
     "text": [
      "enter the coefficient a:\n",
      "2\n",
      "enter the coefficient b:\n",
      "10\n",
      "enter the coefficient c:\n",
      "4\n",
      "68\n"
     ]
    }
   ],
   "source": [
    "print('enter the coefficient a:')\n",
    "a = int(input())\n",
    "print('enter the coefficient b:')\n",
    "b = int(input())\n",
    "print('enter the coefficient c:')\n",
    "c = int(input())\n",
    "dis = b**2 - 4*a*c\n",
    "if dis >= 0:\n",
    "    print(dis)\n",
    "else:\n",
    "    print('ERROR!')\n"
   ]
  },
  {
   "cell_type": "code",
   "execution_count": 3,
   "id": "d1051bb5",
   "metadata": {},
   "outputs": [
    {
     "name": "stdout",
     "output_type": "stream",
     "text": [
      "enter value:\n",
      "5\n",
      "1\n",
      "4\n"
     ]
    }
   ],
   "source": [
    "print('enter value:')\n",
    "value = int(input())\n",
    "a = 1\n",
    "while(a**2 < value):\n",
    "    print(a**2)\n",
    "    a+=1\n"
   ]
  },
  {
   "cell_type": "code",
   "execution_count": 6,
   "id": "05a1106e",
   "metadata": {},
   "outputs": [
    {
     "name": "stdout",
     "output_type": "stream",
     "text": [
      "enter the value:\n",
      "-1\n",
      "enter a larger number:\n",
      "1\n",
      "enter a larger number:\n",
      "13\n",
      "your min divider:\n",
      "13\n"
     ]
    }
   ],
   "source": [
    "print('enter the value:')\n",
    "value= int(input())\n",
    "if (value >= 2):\n",
    "    for n in range(2, value + 1):\n",
    "        if(value % n == 0):\n",
    "            print('min divider:')\n",
    "            print(n)\n",
    "            break\n",
    "elif((value < 2)):\n",
    "    while (value < 2):\n",
    "      print('enter a larger number:')\n",
    "      value = int(input()) \n",
    "for n in range(2, value + 1):\n",
    "        if(value % n == 0):\n",
    "            print('your min divider:')\n",
    "            print(n)\n",
    "            break\n"
   ]
  },
  {
   "cell_type": "code",
   "execution_count": 8,
   "id": "da208391",
   "metadata": {},
   "outputs": [
    {
     "name": "stdout",
     "output_type": "stream",
     "text": [
      "enter the value:\n",
      "7\n",
      "result:\n",
      "13\n"
     ]
    }
   ],
   "source": [
    "def f(n):\n",
    "    if(n == 0):\n",
    "        return 0\n",
    "    if(n == 1):\n",
    "        return 1\n",
    "    if(n >= 2):\n",
    "        return f(n - 2) + f(n - 1)\n",
    "print('enter the value:')\n",
    "n = int(input())\n",
    "print('result:')\n",
    "print(f(n))"
   ]
  },
  {
   "cell_type": "code",
   "execution_count": 9,
   "id": "293cc2c2",
   "metadata": {},
   "outputs": [
    {
     "name": "stdout",
     "output_type": "stream",
     "text": [
      "8\n",
      "99\n",
      "67\n"
     ]
    }
   ],
   "source": [
    "a = [8,888,99,56,67,89]\n",
    "print(a[0])\n",
    "print(a[2])\n",
    "print(a[4])"
   ]
  },
  {
   "cell_type": "code",
   "execution_count": 10,
   "id": "c532a5cb",
   "metadata": {},
   "outputs": [
    {
     "name": "stdout",
     "output_type": "stream",
     "text": [
      "8 9\n"
     ]
    }
   ],
   "source": [
    "a  = [8, 9, 16, 20 , -6, -8, -7]\n",
    "for n in range(1,len(a)+ 1):\n",
    "   if a[n - 1] * a[n] > 0:\n",
    "        print(a[n - 1], a[n])\n",
    "        break\n"
   ]
  },
  {
   "cell_type": "code",
   "execution_count": 11,
   "id": "a9010187",
   "metadata": {},
   "outputs": [
    {
     "name": "stdout",
     "output_type": "stream",
     "text": [
      "5\n"
     ]
    }
   ],
   "source": [
    "a =[2,5,6,8,9,7655,4343,3,0]\n",
    "count = 0\n",
    "for i in range(1, len(a)):\n",
    "    if a[i- 1]<a[i]:\n",
    "        count += 1\n",
    "print(count)"
   ]
  },
  {
   "cell_type": "code",
   "execution_count": 12,
   "id": "ba723bc4",
   "metadata": {},
   "outputs": [
    {
     "name": "stdout",
     "output_type": "stream",
     "text": [
      "2\n"
     ]
    }
   ],
   "source": [
    "a =[2,5,6,8,9,7655,4343,90000,0]\n",
    "count = 0\n",
    "for i in range(1, len(a) -1):\n",
    "    if a[i- 1]<a[i] and a[i] > a[i + 1]:\n",
    "        count += 1\n",
    "print(count)"
   ]
  },
  {
   "cell_type": "code",
   "execution_count": 13,
   "id": "64c183fb",
   "metadata": {},
   "outputs": [
    {
     "name": "stdout",
     "output_type": "stream",
     "text": [
      "enter the value:\n",
      "178\n",
      "6\n"
     ]
    }
   ],
   "source": [
    "a = [200, 195, 193, 178,178,170, 160, 150]\n",
    "print('enter the value:')\n",
    "rost = int(input())\n",
    "pos = 0\n",
    "while pos < len(a) and a[pos] >= rost:\n",
    "    pos += 1\n",
    "print(pos + 1)\n"
   ]
  },
  {
   "cell_type": "code",
   "execution_count": 14,
   "id": "47b78618",
   "metadata": {},
   "outputs": [
    {
     "name": "stdout",
     "output_type": "stream",
     "text": [
      "11\n"
     ]
    }
   ],
   "source": [
    "a = [1, 1,1,2,3,4,5,6,7,8,9,10,10,11,]\n",
    "count = 1\n",
    "for i in range(1,len(a)):\n",
    "    if a[i]!=a[i-1]:\n",
    "        count+=1\n",
    "print(count)"
   ]
  },
  {
   "cell_type": "code",
   "execution_count": 16,
   "id": "9d5e8313",
   "metadata": {},
   "outputs": [
    {
     "name": "stdout",
     "output_type": "stream",
     "text": [
      "5\n"
     ]
    }
   ],
   "source": [
    "a = [1,3,5,7,8,9,65,65,43,32,2,4,65,65,57,65,0]\n",
    "count = 0\n",
    "max = max(a)\n",
    "for i in range (len(a)):\n",
    "    if max == a[i]:\n",
    "        count +=1\n",
    "print(count)"
   ]
  },
  {
   "cell_type": "code",
   "execution_count": 17,
   "id": "3b898533",
   "metadata": {},
   "outputs": [
    {
     "name": "stdout",
     "output_type": "stream",
     "text": [
      "11\n"
     ]
    }
   ],
   "source": [
    "a = [1,4,5,6,7,8,1,1,1,1,1,8,1,1,1,1,1,1,1,1,1,1,1,9,1]\n",
    "count = 0\n",
    "max = 0\n",
    "for i in range (1,len(a)):\n",
    "    if a[i] == a[i - 1]:\n",
    "        count+=1\n",
    "        if count > max:\n",
    "            max = count\n",
    "    else:\n",
    "         count = 1\n",
    "print(max)"
   ]
  },
  {
   "cell_type": "code",
   "execution_count": 18,
   "id": "f8bda10f",
   "metadata": {},
   "outputs": [
    {
     "name": "stdout",
     "output_type": "stream",
     "text": [
      "[5, 7, 9, 7, 8]\n"
     ]
    }
   ],
   "source": [
    "a = [1,2,3]\n",
    "b = [4,5,6,7,8]\n",
    "c=[]\n",
    "for x, y in zip(a,b): \n",
    "   c+=[x+y]\n",
    "\n",
    "if len(a) > len(b):\n",
    "   c+=a[len(a)-len(b)+1:]\n",
    "elif len(a) < len(b):\n",
    "   c+=b[len(b)-len(a)+1:]\n",
    "\n",
    "print(c)\n"
   ]
  },
  {
   "cell_type": "code",
   "execution_count": 21,
   "id": "c3d32bf2",
   "metadata": {},
   "outputs": [
    {
     "name": "stdout",
     "output_type": "stream",
     "text": [
      "1 2 3 4 5 \n",
      "5 4\n"
     ]
    }
   ],
   "source": [
    "index_of_max = 0\n",
    "a = [int(i) for i in input().split()]\n",
    "for i in range(1, len(a)):\n",
    "    if a[i] > a[index_of_max]:\n",
    "        index_of_max = i\n",
    "print(a[index_of_max], index_of_max)"
   ]
  },
  {
   "cell_type": "code",
   "execution_count": 19,
   "id": "f6d91fe1",
   "metadata": {},
   "outputs": [
    {
     "name": "stdout",
     "output_type": "stream",
     "text": [
      "enter first vactor:\n",
      "1\n",
      "2\n",
      "3\n",
      "enter second vactor:\n",
      "4\n",
      "5\n",
      "6\n",
      "32\n"
     ]
    }
   ],
   "source": [
    "print('enter first vactor:')\n",
    "a = []\n",
    "for i in range(3):\n",
    "    value_a = int(input())\n",
    "    a.append(value_a)\n",
    "print('enter second vactor:')\n",
    "b = []\n",
    "for g in range(3):\n",
    "    value_b = int(input())\n",
    "    b.append(value_b)\n",
    "print(a[0]*b[0]+a[1]*b[1]+a[2]*b[2])"
   ]
  }
 ],
 "metadata": {
  "kernelspec": {
   "display_name": "Python 3 (ipykernel)",
   "language": "python",
   "name": "python3"
  },
  "language_info": {
   "codemirror_mode": {
    "name": "ipython",
    "version": 3
   },
   "file_extension": ".py",
   "mimetype": "text/x-python",
   "name": "python",
   "nbconvert_exporter": "python",
   "pygments_lexer": "ipython3",
   "version": "3.10.0"
  }
 },
 "nbformat": 4,
 "nbformat_minor": 5
}
